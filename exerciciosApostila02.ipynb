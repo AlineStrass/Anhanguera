{
 "cells": [
  {
   "cell_type": "markdown",
   "metadata": {},
   "source": [
    "## ESTRUTURAS DE DADOS EM PYTHON"
   ]
  },
  {
   "cell_type": "markdown",
   "metadata": {},
   "source": [
    "### OBJETOS DO TIPO SEQUÊNCIA"
   ]
  },
  {
   "cell_type": "code",
   "execution_count": 1,
   "metadata": {},
   "outputs": [
    {
     "name": "stdout",
     "output_type": "stream",
     "text": [
      "Tamanho do texto = 60\n",
      "Python in texto = True\n",
      "Quantidade de y no texto = 1\n",
      "As 5 primeiras letras são: Aprend\n"
     ]
    }
   ],
   "source": [
    "texto = \"Aprendendo Python na disciplina de linguagem de programação.\"\n",
    "\n",
    "print(f\"Tamanho do texto = {len(texto)}\")               # len() permite saber o tamanho da sequência\n",
    "print(f\"Python in texto = {'Python' in texto}\")         # operador 'in' permite saber se um determinado valor está ou não na sequência\n",
    "print(f\"Quantidade de y no texto = {texto.count('y')}\") # count permite contar a quantidade de ocorrências de um valor\n",
    "print(f\"As 5 primeiras letras são: {texto[0:6]}\")       # a notação com colchetes permite fatiar a sequência, exibindo somente partes dela - posição 0 até a 5, pois o valor 6 não é incluído."
   ]
  },
  {
   "cell_type": "code",
   "execution_count": 2,
   "metadata": {},
   "outputs": [
    {
     "name": "stdout",
     "output_type": "stream",
     "text": [
      "APRENDENDO PYTHON NA DISCIPLINA DE LINGUAGEM DE PROGRAMAÇÃO.\n",
      "Aprendendo Python na dXXscXXplXXna de lXXnguagem de programação.\n"
     ]
    }
   ],
   "source": [
    "texto = \"Aprendendo Python na disciplina de linguagem de programação.\"\n",
    "\n",
    "print(texto.upper())                 # upper(), que transforma para maiúsculo\n",
    "print(texto.replace(\"i\", 'XX'))      # replace() pode ser usada para substiuir um caractere por outro"
   ]
  },
  {
   "cell_type": "code",
   "execution_count": 3,
   "metadata": {},
   "outputs": [
    {
     "name": "stdout",
     "output_type": "stream",
     "text": [
      "texto = Aprendendo Python na disciplina de linguagem de programação.\n",
      "Tamanho do texto = 60\n",
      "\n",
      "palavras = ['Aprendendo', 'Python', 'na', 'disciplina', 'de', 'linguagem', 'de', 'programação.']\n",
      "Tamanho de palavras = 8\n"
     ]
    }
   ],
   "source": [
    "texto = \"Aprendendo Python na disciplina de linguagem de programação.\"\n",
    "print(f\"texto = {texto}\")                   # exibe o texto\n",
    "print(f\"Tamanho do texto = {len(texto)}\\n\") # conta os carecteres\n",
    "\n",
    "palavras = texto.split()                    #split() para cortar o texto e guardamos o resultado em uma variável chamada \"palavras\"\n",
    "print(f\"palavras = {palavras}\")\n",
    "print(f\"Tamanho de palavras = {len(palavras)}\")"
   ]
  },
  {
   "cell_type": "markdown",
   "metadata": {},
   "source": [
    "### Exercício\n",
    "quantas vezes a palavra strig aparece no texto"
   ]
  },
  {
   "cell_type": "code",
   "execution_count": 7,
   "metadata": {},
   "outputs": [
    {
     "name": "stdout",
     "output_type": "stream",
     "text": [
      "Quantidade de string no texto = 3\n",
      "Tamanho do texto = 348\n"
     ]
    }
   ],
   "source": [
    "texto = \"\"\"Operadores de String\n",
    "Python oferece operadores para processar texto (ou seja, valores de string).\n",
    "Assim como os números, as strings podem ser comparadas usando operadores de comparação:\n",
    "==, !=, <, > e assim por diante.\n",
    "O operador ==, por exemplo, retorna True se as strings nos dois lados do operador tiverem o mesmo valor (Perkovic, p. 23, 2016).\n",
    "\"\"\"\n",
    "\n",
    "print(f\"Quantidade de string no texto = {texto.count('string')}\")\n",
    "\n",
    "print(f\"Tamanho do texto = {len(texto)}\")"
   ]
  },
  {
   "cell_type": "markdown",
   "metadata": {},
   "source": [
    "### LISTAS\n",
    "\n",
    "- Usando um par de colchetes para denotar uma lista vazia: lista1 = []\n",
    "- Usando um par de colchetes e elementos separados por vírgulas: lista2 = ['a', 'b', 'c']\n",
    "- Usando uma \"list comprehension\": [x for x in iterable]\n",
    "- Usando o construtor de tipo: list()"
   ]
  },
  {
   "cell_type": "code",
   "execution_count": 8,
   "metadata": {},
   "outputs": [
    {
     "name": "stdout",
     "output_type": "stream",
     "text": [
      "Posição = 0, valor = a\n",
      "Posição = 1, valor = e\n",
      "Posição = 2, valor = i\n",
      "Posição = 3, valor = o\n",
      "Posição = 4, valor = u\n"
     ]
    }
   ],
   "source": [
    "vogais = ['a', 'e', 'i', 'o', 'u'] # também poderia ter sido criada usando aspas duplas\n",
    "\n",
    "for vogal in vogais:            # posição do item\n",
    "    print (f'Posição = {vogais.index(vogal)}, valor = {vogal}')     # valor do item"
   ]
  }
 ],
 "metadata": {
  "kernelspec": {
   "display_name": "Python 3",
   "language": "python",
   "name": "python3"
  },
  "language_info": {
   "codemirror_mode": {
    "name": "ipython",
    "version": 3
   },
   "file_extension": ".py",
   "mimetype": "text/x-python",
   "name": "python",
   "nbconvert_exporter": "python",
   "pygments_lexer": "ipython3",
   "version": "3.11.3"
  },
  "orig_nbformat": 4
 },
 "nbformat": 4,
 "nbformat_minor": 2
}
