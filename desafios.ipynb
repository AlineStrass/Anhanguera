{
 "cells": [
  {
   "cell_type": "markdown",
   "metadata": {},
   "source": [
    "### DESAFIO\n",
    "Você foi designado para pesquisar a tabela de valores para o imposto de renda do ano de 2020, pensar no algoritmo e implementar a primeira versão da solução. Quando o cliente aprovar, a versão passará para o time de produção. Nessa primeira versão, o programa deve solicitar o salário do colaborador e então, informar qual o valor do imposto que será deduzido do salário."
   ]
  },
  {
   "cell_type": "code",
   "execution_count": 1,
   "metadata": {},
   "outputs": [
    {
     "name": "stdout",
     "output_type": "stream",
     "text": [
      "3000.0\n",
      "189.59\n",
      "2810.41\n",
      "210.78074999999998\n",
      "2810.41\n",
      "158.4\n",
      "52.38\n",
      "2947.62\n",
      "O valor final considerando todas as deduções é de R$2947.62 e o valor do desconto do IRRF é de R$52.38\n"
     ]
    }
   ],
   "source": [
    "salario = float(input(\"Qual o seu salário? \"))\n",
    "dependentes = input(\"Você tem dependendes? Sim ou Não? \")\n",
    "\n",
    "if dependentes == \"sim\":\n",
    "    dependentes = 189.59\n",
    "else:\n",
    "    dependentes = 0\n",
    "print(salario)\n",
    "print(dependentes)\n",
    "\n",
    "base_um_salario = salario - dependentes\n",
    "print(base_um_salario)\n",
    "\n",
    "if base_um_salario <= 2112.00:\n",
    "    print(\"Vose é isento, nãp precisa declarar o IRRF\")\n",
    "elif base_um_salario >= 2112.01 and base_um_salario <= 2826.65:\n",
    "    faixa_desconto = base_um_salario * 0.075\n",
    "    deducao = 158.40\n",
    "elif base_um_salario >= 2826.66 and base_um_salario >= 3751.05:\n",
    "    faixa_desconto = base_um_salario * 0.15\n",
    "    deducao = 370.40\n",
    "elif base_um_salario >=3751.06 and base_um_salario <= 4664.68:\n",
    "    faixa_desconto = base_um_salario * 0.225\n",
    "    deducao = 651.73\n",
    "elif base_um_salario > 4664.68:\n",
    "    faixa_desconto = base_um_salario * 0.275\n",
    "    deducao = 884.96\n",
    "print(faixa_desconto)\n",
    "print(base_um_salario)\n",
    "print(deducao)\n",
    "\n",
    "parcela_deducao = round(faixa_desconto - deducao, 2)\n",
    "print(parcela_deducao)\n",
    "\n",
    "valor_final_deducoes = round(salario - parcela_deducao, 2)\n",
    "print(valor_final_deducoes)\n",
    "\n",
    "print(f\"O valor final considerando todas as deduções é de R${valor_final_deducoes} e o valor do desconto do IRRF é de R${parcela_deducao}\")"
   ]
  }
 ],
 "metadata": {
  "kernelspec": {
   "display_name": "Python 3",
   "language": "python",
   "name": "python3"
  },
  "language_info": {
   "codemirror_mode": {
    "name": "ipython",
    "version": 3
   },
   "file_extension": ".py",
   "mimetype": "text/x-python",
   "name": "python",
   "nbconvert_exporter": "python",
   "pygments_lexer": "ipython3",
   "version": "3.11.3"
  },
  "orig_nbformat": 4
 },
 "nbformat": 4,
 "nbformat_minor": 2
}
