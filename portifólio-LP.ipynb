{
 "cells": [
  {
   "cell_type": "markdown",
   "metadata": {},
   "source": [
    "### CÁLCULO DE IMC (ÍNDICE DE MASSA CORPORAL)\n",
    "\n",
    "IMC = PESO / ALTURA **2"
   ]
  },
  {
   "cell_type": "code",
   "execution_count": 19,
   "metadata": {},
   "outputs": [
    {
     "name": "stdout",
     "output_type": "stream",
     "text": [
      "Peso digitado: 109.0kg\n",
      "Altura digitada: 1.67m\n",
      "Valor do IMC: 39.08\n",
      "Obesidade classe 2 - Severa\n"
     ]
    }
   ],
   "source": [
    "peso = float(input(\"Digite o seu peso em KG: \"))\n",
    "altura = float(input(\"Digite a sua altura, usando ponto para separar metro de centimetros: \"))\n",
    "\n",
    "print(f\"Peso digitado: {peso}kg\")\n",
    "print(f\"Altura digitada: {altura}m\")\n",
    "\n",
    "imc = round(peso / (altura **2), 2)\n",
    "\n",
    "print(f\"Valor do IMC: {imc}\")\n",
    "\n",
    "if imc < 16:\n",
    "    print(\"Magreza grave\")\n",
    "elif imc >= 16 and imc < 17:\n",
    "    print(\"Magreza moderada\")\n",
    "elif imc >= 17 and imc < 18.50:\n",
    "    print(\"Magreza leve\")\n",
    "elif imc >= 18.50 and imc < 25:\n",
    "    print(\"Sudável\")\n",
    "elif imc >= 25 and imc < 30:\n",
    "    print(\"Excesso de peso\")\n",
    "elif imc >= 30 and imc < 35:\n",
    "    print(\"Obesidade classe 1\")\n",
    "elif imc >= 35 and imc < 40:\n",
    "    print(\"Obesidade classe 2 - Severa\")\n",
    "elif imc >= 40:\n",
    "    print(\"Obesidade clase 3 - Morbida\")\n"
   ]
  }
 ],
 "metadata": {
  "kernelspec": {
   "display_name": "Python 3",
   "language": "python",
   "name": "python3"
  },
  "language_info": {
   "codemirror_mode": {
    "name": "ipython",
    "version": 3
   },
   "file_extension": ".py",
   "mimetype": "text/x-python",
   "name": "python",
   "nbconvert_exporter": "python",
   "pygments_lexer": "ipython3",
   "version": "3.11.3"
  },
  "orig_nbformat": 4
 },
 "nbformat": 4,
 "nbformat_minor": 2
}
