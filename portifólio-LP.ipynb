{
 "cells": [
  {
   "cell_type": "markdown",
   "metadata": {},
   "source": [
    "### CÁLCULO DE IMC (ÍNDICE DE MASSA CORPORAL)\n",
    "\n",
    "IMC = PESO / ALTURA **2"
   ]
  },
  {
   "cell_type": "code",
   "execution_count": 7,
   "metadata": {},
   "outputs": [
    {
     "name": "stdout",
     "output_type": "stream",
     "text": [
      "Peso digitado: 47.0kg\n",
      "Altura digitada: 1.6m\n",
      "Valor do IMC: 18.36\n",
      "Abaixo do peso\n"
     ]
    }
   ],
   "source": [
    "peso = float(input(\"Digite o seu peso em KG: \"))\n",
    "altura = float(input(\"Digite a sua altura, usando ponto para separar metro de centimetros: \"))\n",

    "print(f\"Peso digitado: {peso}kg\")\n",
    "print(f\"Altura digitada: {altura}m\")\n",
    "\n",

    "imc = round(peso / (altura **2), 2)\n",

    "print(f\"Valor do IMC: {imc}\")\n",
    "\n",

    "if imc < 18.50:\n",
    "    print(\"Abaixo do peso\")\n",
    "elif imc >= 18.50 and imc <= 24.99:\n",
    "    print(\"Peso normal\")\n",
    "elif imc > 24.99 and imc <= 29.99:\n",
    "    print(\"Excesso de peso\")\n",
    "elif imc > 29.99 and imc <= 34.99:\n",
    "    print(\"Obesidade classe 1\")\n",
    "elif imc >34.99 and imc <= 39.99:\n",
    "    print(\"Obesidade classe 2 - Severa\")\n",
    "else:\n",
    "    imc > 39.99\n",
    "    print(\"Obesidade clase 3 - Morbida\")"
   ]
  }
 ],
 "metadata": {
  "kernelspec": {
   "display_name": "Python 3",
   "language": "python",
   "name": "python3"
  },
  "language_info": {
   "codemirror_mode": {
    "name": "ipython",
    "version": 3
   },
   "file_extension": ".py",
   "mimetype": "text/x-python",
   "name": "python",
   "nbconvert_exporter": "python",
   "pygments_lexer": "ipython3",
   "version": "3.11.3"
  },
  "orig_nbformat": 4
 },
 "nbformat": 4,
 "nbformat_minor": 2
}
