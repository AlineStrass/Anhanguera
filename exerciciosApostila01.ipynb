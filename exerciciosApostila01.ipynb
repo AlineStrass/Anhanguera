{
 "cells": [
  {
   "cell_type": "markdown",
   "metadata": {},
   "source": [
    "### Exercício - Função de primeiro grau"
   ]
  },
  {
   "cell_type": "code",
   "execution_count": null,
   "metadata": {},
   "outputs": [],
   "source": [
    "mes = input(\"Digite o mês que deseja saber o resultado: \")  # Função para capturar o mês que o cliente digitar\n",
    "mes = int(mes)  # Não esqueça de converter para numérico\n",
    "\n",
    "\n",
    "resp = c * mes  # equação do primeiro grau\n",
    "\n",
    "print(\"A quantidade de peças para o mês {} será {}\".format(mes, resp))  # impressão do resultado - MELHOR PRÁTICA DE USO\n",
    "\n",
    "print(f\"A quantidade de peças para o mês {mes} será {resp}\")  # impressão do resultado\n",
    "\n",
    "print(\"A quantidade de peças para o mês %s \" % mes)  # impressão do resultado"
   ]
  },
  {
   "cell_type": "markdown",
   "metadata": {},
   "source": [
    "### Exercício de ordem de precedências das operações"
   ]
  },
  {
   "cell_type": "code",
   "execution_count": 4,
   "metadata": {},
   "outputs": [
    {
     "name": "stdout",
     "output_type": "stream",
     "text": [
      "Resultado em operacao_1 = 17\n",
      "Resultado em operacao_2 = 25\n",
      "Resultado em operacao_3 = 1.0\n",
      "Resultado em operacao_4 = 5\n"
     ]
    }
   ],
   "source": [
    "# Qual o resultado armazendo na variável operacao_1: 25 ou 17? \n",
    "operacao_1 = 2 + 3 * 5\n",
    "\n",
    "# Qual o resultado armazendo na variável operacao_2: 25 ou 17? \n",
    "operacao_2 = (2 + 3) * 5\n",
    "\n",
    "# Qual o resultado armazendo na variável operacao_3: 4 ou 1?\n",
    "operacao_3 = 4 / 2 ** 2\n",
    "\n",
    "# Qual o resultado armazendo na variável operacao_4: 1 ou 5?\n",
    "operacao_4 = 13 % 3 + 4\n",
    "\n",
    "\n",
    "print(f\"Resultado em operacao_1 = {operacao_1}\")\n",
    "print(f\"Resultado em operacao_2 = {operacao_2}\")\n",
    "print(f\"Resultado em operacao_3 = {operacao_3}\")\n",
    "print(f\"Resultado em operacao_4 = {operacao_4}\")"
   ]
  },
  {
   "cell_type": "markdown",
   "metadata": {},
   "source": [
    "### Exercício"
   ]
  },
  {
   "cell_type": "code",
   "execution_count": 3,
   "metadata": {},
   "outputs": [
    {
     "name": "stdout",
     "output_type": "stream",
     "text": [
      "O resultado de y para x = 5.0 é 53.5.\n"
     ]
    }
   ],
   "source": [
    "a = 2\n",
    "b = 0.5\n",
    "c = 1\n",
    "x = input(\"Digite o valor de x: \")\n",
    "\n",
    "x = float(x) # aqui fazemos a conversão da string para o tipo numérico\n",
    "\n",
    "y = a * x ** 2 + b * x + c\n",
    "\n",
    "print(f\"O resultado de y para x = {x} é {y}.\")"
   ]
  },
  {
   "cell_type": "markdown",
   "metadata": {},
   "source": [
    "### Tipos de dados"
   ]
  },
  {
   "cell_type": "code",
   "execution_count": 2,
   "metadata": {},
   "outputs": [
    {
     "name": "stdout",
     "output_type": "stream",
     "text": [
      "<class 'int'>\n",
      "<class 'str'>\n",
      "<class 'float'>\n",
      "<class 'bool'>\n"
     ]
    }
   ],
   "source": [
    "x = 10\n",
    "nome = 'aluno'\n",
    "nota = 8.75\n",
    "fez_inscricao = True\n",
    "\n",
    "print(type(x))\n",
    "print(type(nome))\n",
    "print(type(nota))\n",
    "print(type(fez_inscricao))"
   ]
  },
  {
   "cell_type": "markdown",
   "metadata": {},
   "source": [
    "## IF, ELSE e ELIF"
   ]
  },
  {
   "cell_type": "code",
   "execution_count": 5,
   "metadata": {},
   "outputs": [
    {
     "name": "stdout",
     "output_type": "stream",
     "text": [
      "a1 é menor do que b1\n",
      "15\n"
     ]
    }
   ],
   "source": [
    "a1 = 5\n",
    "b1 = 10\n",
    "if a1 < b1:\n",
    "    print(\"a1 é menor do que b1\")\n",
    "    r = a1 + b1\n",
    "    print (r)\n",
    "    "
   ]
  },
  {
   "cell_type": "code",
   "execution_count": 6,
   "metadata": {},
   "outputs": [
    {
     "name": "stdout",
     "output_type": "stream",
     "text": [
      "c1 é maior que d1\n",
      "5\n"
     ]
    }
   ],
   "source": [
    "c1 = 10\n",
    "d1 = 5\n",
    "\n",
    "if c1 < d1:\n",
    "    print(\"c1 é maior que d1\")\n",
    "    r1 = c1 - d1\n",
    "    print(r1)\n",
    "    \n",
    "else:\n",
    "    print(\"c1 é maior que d1\")\n",
    "    r1 = c1 - d1\n",
    "    print(r1)\n",
    "    "
   ]
  },
  {
   "cell_type": "markdown",
   "metadata": {},
   "source": [
    "O código a baixo mostra a construção de uma estrutura condicional encadeada. Começamos pelo teste com if, depois testamos várias alternativas com o elif e, por fim, colocamos uma mensagem, caso nenhuma opção seja verdadeira, no else"
   ]
  },
  {
   "cell_type": "code",
   "execution_count": 8,
   "metadata": {},
   "outputs": [
    {
     "name": "stdout",
     "output_type": "stream",
     "text": [
      "código não cadastrado\n"
     ]
    }
   ],
   "source": [
    "codigo_compra = 5111\n",
    "\n",
    "if codigo_compra == 5222:\n",
    "    print(\"Compra à vista\")\n",
    "elif codigo_compra == 5333:\n",
    "    print(\"Compra à prazo no boleto.\")\n",
    "elif codigo_compra == 5444:\n",
    "    print(\"compra a prazo no cartão\")\n",
    "else:\n",
    "    print(\"código não cadastrado\")"
   ]
  },
  {
   "cell_type": "markdown",
   "metadata": {},
   "source": [
    "### ESTRUTURAS LÓGICAS EM PYTHON: AND, OR, NOT\n",
    "\n",
    "Operador booleano and: Esse operador faz a operação lógica E, ou seja, dada a expressão (a and b), o resultado será True, somente quando os dois argumentos forem verdadeiros.\n",
    "Operador booleano or: Esse operador faz a operação lógica OU, ou seja, dada a expressão (a or b), o resultado será True, quando pelo menos um dos argumentos for verdadeiro.\n",
    "Operador booleano not: Esse operador faz a operação lógica NOT, ou seja, dada a expressão (not a), ele irá inverter o valor do argumento. Portanto, se o argumento for verdadeiro, a operação o transformará em falso e vice-versa"
   ]
  },
  {
   "cell_type": "markdown",
   "metadata": {},
   "source": [
    "Um aluno só pode ser aprovado caso ele tenha menos de 5 faltas e média final superior a 7"
   ]
  },
  {
   "cell_type": "code",
   "execution_count": 9,
   "metadata": {},
   "outputs": [
    {
     "name": "stdout",
     "output_type": "stream",
     "text": [
      "APROVADO\n"
     ]
    }
   ],
   "source": [
    "qtde_faltas = int(input(\"Digite a quantdade de faltas \")) # fizemos a conversão do tipo string para numérico\n",
    "media_final = float(input(\"Digite a média final \")) # fizemos a conversão do tipo string para flutuante\n",
    "\n",
    "if qtde_faltas <= 5 and media_final >= 7: # teste condicional, primeiro são resolvidos os operadores relacionais, em seguida, os lógicos\n",
    "    print(\"APROVADO\")\n",
    "else:\n",
    "    print(\"REPROVADO\")"
   ]
  },
  {
   "cell_type": "markdown",
   "metadata": {},
   "source": [
    "Obs: not tem uma prioridade mais baixa que os operadores relacionais. Portanto, not a == b é interpretado como: not (a == b) e a == not b gera um erro de sintaxe.\n",
    "\n",
    "Obs2: Assim como as operações matemáticas possuem ordem de precedência, as operações booleanas também têm. Essa prioridade obedece à seguinte ordem: not primeiro, and em seguida e or por último (BANIN, 2018)."
   ]
  },
  {
   "cell_type": "code",
   "execution_count": 10,
   "metadata": {},
   "outputs": [
    {
     "name": "stdout",
     "output_type": "stream",
     "text": [
      "True\n",
      "False\n"
     ]
    }
   ],
   "source": [
    "A = 15\n",
    "B = 9\n",
    "C = 9\n",
    "\n",
    "print(B == C or A < B and A < C) # True or False and False. Nesse caso será feito primeiro o and, que resulta em False, mas em seguida é feito o or, que então resulta em verdadeiro\n",
    "print((B == C or A < B) and A < C ) # (True or False) and False. Nesse caso será feito primeiro o or, que resulta em True, mas em seguida é feito o and, que então resulta em falso, pois ambos teriam que ser verdadeiro para o and ser True."
   ]
  },
  {
   "cell_type": "markdown",
   "metadata": {},
   "source": [
    "### ESTRUTURAS DE REPETIÇÃO EM PYTHON: WHILE (enquanto) E FOR (para)"
   ]
  },
  {
   "cell_type": "code",
   "execution_count": 11,
   "metadata": {},
   "outputs": [
    {
     "name": "stdout",
     "output_type": "stream",
     "text": [
      "1\n",
      "2\n",
      "3\n"
     ]
    }
   ],
   "source": [
    "x = 1\n",
    "while x <= 3:\n",
    "    print(x)\n",
    "    x = x + 1"
   ]
  },
  {
   "cell_type": "markdown",
   "metadata": {},
   "source": [
    "quando queremos solicitar e testar se o número digitado pelo usuário é par ou ímpar. Quando ele digitar zero, o programa se encerra. Veja, não sabemos quando o usuário irá digitar, portanto somente o while é capaz de solucionar esse problema"
   ]
  },
  {
   "cell_type": "code",
   "execution_count": 18,
   "metadata": {},
   "outputs": [
    {
     "name": "stdout",
     "output_type": "stream",
     "text": [
      "número impar\n",
      "número impar\n",
      "número impar\n",
      "número par\n"
     ]
    }
   ],
   "source": [
    "numero_escolhido = \"\" # criação da variavel, pode conter um número o estar vazia entre aspas\n",
    "\n",
    "while numero_escolhido != 0:            # estrutura de repetição\n",
    "    numero_escolhido = int(input(\"digite um número: \"))\n",
    "    if numero_escolhido % 2 == 0:\n",
    "        print(\"número par\")\n",
    "    else:\n",
    "        print(\"número impar\")"
   ]
  },
  {
   "cell_type": "markdown",
   "metadata": {},
   "source": [
    "iterar sobre os caracteres de uma palavra\n",
    "\n",
    "\n",
    "Usamos o comando \"for\" seguido da variável de controle \"c\", na sequência o comando \"in\", que traduzindo significa \"em\", por fim, a sequência sobre a qual a estrutura deve iterar"
   ]
  },
  {
   "cell_type": "code",
   "execution_count": 19,
   "metadata": {},
   "outputs": [
    {
     "name": "stdout",
     "output_type": "stream",
     "text": [
      "A\n",
      "l\n",
      "i\n",
      "n\n",
      "e\n"
     ]
    }
   ],
   "source": [
    "nome = \"Aline\"\n",
    "for c in nome:\n",
    "    print(c)"
   ]
  },
  {
   "cell_type": "markdown",
   "metadata": {},
   "source": [
    "podemos usar a função enumerate() para retornar à posição de cada item"
   ]
  },
  {
   "cell_type": "code",
   "execution_count": 20,
   "metadata": {},
   "outputs": [
    {
     "name": "stdout",
     "output_type": "stream",
     "text": [
      "Posição = 0, valor = A\n",
      "Posição = 1, valor = l\n",
      "Posição = 2, valor = i\n",
      "Posição = 3, valor = n\n",
      "Posição = 4, valor = e\n"
     ]
    }
   ],
   "source": [
    "nome1 = \"Aline\"\n",
    "for i, c in enumerate(nome1):\n",
    "    print(f\"Posição = {i}, valor = {c}\")"
   ]
  },
  {
   "cell_type": "markdown",
   "metadata": {},
   "source": [
    "### CONTROLE DE REPETIÇÃO COM RANGE, BREAK E CONTINUE"
   ]
  },
  {
   "cell_type": "markdown",
   "metadata": {},
   "source": [
    "o comando for em Python requer uma sequência para que ocorra a iteração. Mas e se precisarmos que a iteração ocorra em uma sequência numérica, por exemplo, de 0 a 5? Para criar uma sequência numérica de iteração em Python, podemos usar a função range()"
   ]
  },
  {
   "cell_type": "code",
   "execution_count": 1,
   "metadata": {},
   "outputs": [
    {
     "name": "stdout",
     "output_type": "stream",
     "text": [
      "0\n",
      "1\n",
      "2\n",
      "3\n",
      "4\n"
     ]
    }
   ],
   "source": [
    "for x in range(5):  # \"x\" é a variável de controle, ou seja, a cada iteração do laço, seu valor é alterado\n",
    "    print(x)        # a função range() foi utilizada para criar um \"iterable\" numérico (objeto iterável) para que as repetições acontecesse\n",
    "                    # a função range() foi utilizada para criar um \"iterable\" numérico (objeto iterável) para que as repetições acontecesse"
   ]
  },
  {
   "cell_type": "markdown",
   "metadata": {},
   "source": [
    "A função range() pode ser usada de três formas distintas:\n",
    "\n",
    "Método 1: passando um único argumento que representa a quantidade de vezes que o laço deve repetir;\n",
    "\n",
    "Método 2: passando dois argumentos, um que representa o início das repetições e outro o limite superior (NÃO INCLUÍDO) do valor da variável de controle;\n",
    "\n",
    "Método 3: Passando três argumentos, um que representa o início das repetições; outro, o limite superior (NÃO INCLUÍDO) do valor da variável de controle e um que representa o incremento. Observe as três maneiras a seguir."
   ]
  },
  {
   "cell_type": "code",
   "execution_count": 2,
   "metadata": {},
   "outputs": [
    {
     "name": "stdout",
     "output_type": "stream",
     "text": [
      "0\n",
      "1\n",
      "2\n",
      "3\n",
      "4\n",
      "5\n",
      "6\n",
      "7\n",
      "8\n",
      "9\n",
      "0\n",
      "1\n",
      "2\n",
      "3\n",
      "4\n",
      "0\n",
      "2\n",
      "4\n",
      "6\n",
      "8\n",
      "10\n",
      "12\n",
      "14\n",
      "16\n",
      "18\n"
     ]
    }
   ],
   "source": [
    "# Método 1\n",
    "for i in range(10):\n",
    "    print(i)\n",
    "\t\n",
    "# Método 2\n",
    "for i in range(0, 5):\n",
    "    print(i)\n",
    "\t    \n",
    "#Método 3\n",
    "for i in range(0, 20, 2):\n",
    "   print(i)"
   ]
  },
  {
   "cell_type": "markdown",
   "metadata": {},
   "source": [
    "### outra forma de influenciar no fluxo é por meio dos comandos \"break\" e \"continue\"\n",
    "\n",
    "O comando break para a execução de uma estrutura de repetição\n",
    "\n",
    "o comando continue, conseguimos \"pular\" algumas execuções, dependendo de uma condição"
   ]
  },
  {
   "cell_type": "code",
   "execution_count": 5,
   "metadata": {},
   "outputs": [
    {
     "name": "stdout",
     "output_type": "stream",
     "text": [
      "L\n",
      "i\n",
      "n\n",
      "g\n",
      "u\n"
     ]
    }
   ],
   "source": [
    "# Exemplo de uso do break\n",
    "disciplina = \"Linguagem de programação\"\n",
    "for c in disciplina:\n",
    "    if c == 'a':    # para quando encontra a letra\n",
    "        break\n",
    "    else:\n",
    "        print(c)"
   ]
  },
  {
   "cell_type": "code",
   "execution_count": 6,
   "metadata": {},
   "outputs": [
    {
     "name": "stdout",
     "output_type": "stream",
     "text": [
      "L\n",
      "i\n",
      "n\n",
      "g\n",
      "u\n",
      "g\n",
      "e\n",
      "m\n",
      " \n",
      "d\n",
      "e\n",
      " \n",
      "p\n",
      "r\n",
      "o\n",
      "g\n",
      "r\n",
      "m\n",
      "ç\n",
      "ã\n",
      "o\n"
     ]
    }
   ],
   "source": [
    "# Exemplo de uso do continue\n",
    "disciplina = \"Linguagem de programação\"\n",
    "for c in disciplina:\n",
    "    if c == 'a':    # pula a letra informada\n",
    "        continue\n",
    "    else:\n",
    "        print(c)"
   ]
  },
  {
   "cell_type": "markdown",
   "metadata": {},
   "source": [
    "### EXEMPLIFICANDO\n",
    " Vamos criar uma solução que procura pelas vogais \"a\", \"e\" em um texto (somente minúsculas). Toda vez que essas vogais são encontradas, devemos informar que encontramos e qual posição do texto ela está\n"
   ]
  },
  {
   "cell_type": "code",
   "execution_count": 7,
   "metadata": {},
   "outputs": [
    {
     "name": "stdout",
     "output_type": "stream",
     "text": [
      "Vogal 'e' encontrada, na posição 6\n",
      "Vogal 'e' encontrada, na posição 13\n",
      "Vogal 'e' encontrada, na posição 18\n",
      "Vogal 'a' encontrada, na posição 45\n",
      "Vogal 'a' encontrada, na posição 47\n",
      "Vogal 'a' encontrada, na posição 53\n",
      "Vogal 'a' encontrada, na posição 61\n",
      "Vogal 'a' encontrada, na posição 67\n",
      "Vogal 'a' encontrada, na posição 91\n",
      "Vogal 'a' encontrada, na posição 98\n",
      "Vogal 'e' encontrada, na posição 100\n",
      "Vogal 'e' encontrada, na posição 104\n",
      "Vogal 'a' encontrada, na posição 111\n",
      "Vogal 'a' encontrada, na posição 113\n",
      "Vogal 'e' encontrada, na posição 119\n",
      "Vogal 'a' encontrada, na posição 122\n",
      "Vogal 'a' encontrada, na posição 127\n",
      "Vogal 'a' encontrada, na posição 130\n",
      "Vogal 'e' encontrada, na posição 132\n",
      "Vogal 'a' encontrada, na posição 135\n",
      "Vogal 'e' encontrada, na posição 138\n",
      "Vogal 'e' encontrada, na posição 141\n",
      "Vogal 'e' encontrada, na posição 151\n",
      "Vogal 'e' encontrada, na posição 156\n",
      "Vogal 'e' encontrada, na posição 166\n",
      "Vogal 'a' encontrada, na posição 168\n",
      "Vogal 'e' encontrada, na posição 174\n",
      "Vogal 'a' encontrada, na posição 190\n",
      "Vogal 'a' encontrada, na posição 192\n",
      "Vogal 'e' encontrada, na posição 201\n",
      "Vogal 'a' encontrada, na posição 209\n",
      "Vogal 'a' encontrada, na posição 216\n",
      "Vogal 'e' encontrada, na posição 220\n",
      "Vogal 'e' encontrada, na posição 227\n",
      "Vogal 'e' encontrada, na posição 230\n",
      "Vogal 'a' encontrada, na posição 234\n",
      "Vogal 'e' encontrada, na posição 237\n",
      "Vogal 'e' encontrada, na posição 252\n",
      "Vogal 'a' encontrada, na posição 254\n",
      "Vogal 'a' encontrada, na posição 257\n",
      "Vogal 'a' encontrada, na posição 259\n",
      "Vogal 'e' encontrada, na posição 266\n",
      "Vogal 'a' encontrada, na posição 278\n",
      "Vogal 'a' encontrada, na posição 280\n",
      "Vogal 'a' encontrada, na posição 282\n",
      "Vogal 'a' encontrada, na posição 289\n",
      "Vogal 'a' encontrada, na posição 294\n",
      "Vogal 'e' encontrada, na posição 297\n",
      "Vogal 'a' encontrada, na posição 309\n",
      "Vogal 'e' encontrada, na posição 323\n",
      "Vogal 'e' encontrada, na posição 325\n",
      "Vogal 'a' encontrada, na posição 328\n"
     ]
    }
   ],
   "source": [
    "texto = \"\"\"\n",
    "A inserção de comentários no código do programa é uma prática normal.\n",
    "Em função disso, toda linguagem de programação tem alguma maneira de permitir que comentários sejam inseridos nos programas.\n",
    "O objetivo é adicionar descrições em partes do código, seja para documentá-lo ou para adicionar uma descrição do algoritmo implementado (BANIN, p. 45, 2018).\"\n",
    "\"\"\"\n",
    "# o uso das aspas triplas para que pudéssemos quebrar a linha do texto. As aspas triplas também podem ser usadas para criar comentários de várias linhas em Python\n",
    "\n",
    "for i, c in enumerate(texto):\n",
    "    if c == 'a' or c == 'e':\n",
    "        print(f\"Vogal '{c}' encontrada, na posição {i}\")\n",
    "    else:\n",
    "        continue"
   ]
  },
  {
   "cell_type": "markdown",
   "metadata": {},
   "source": [
    "### eval()\n",
    "\n",
    "A função eval() avalia a expressão especificada, se a expressão for uma declaração legal do Python, ela será executada."
   ]
  },
  {
   "cell_type": "code",
   "execution_count": 3,
   "metadata": {},
   "outputs": [
    {
     "name": "stdout",
     "output_type": "stream",
     "text": [
      "\n",
      "A entrada do usuário e* x + f é do tipo <class 'str'>\n",
      "\n",
      "Resultado da equação para x = 0 é 1\n",
      "\n",
      "Resultado da equação para x = 1 é 3\n",
      "\n",
      "Resultado da equação para x = 2 é 5\n",
      "\n",
      "Resultado da equação para x = 3 é 7\n",
      "\n",
      "Resultado da equação para x = 4 é 9\n"
     ]
    }
   ],
   "source": [
    "e = 2\n",
    "f = 1\n",
    "\n",
    "equacao = input(\"Digite a fórmula geral da equação linear (e * x + f): \") # digitar: e * x + f\n",
    "print(f\"\\nA entrada do usuário {equacao} é do tipo {type(equacao)}\")\n",
    "\n",
    "for x in range(5):\n",
    "    y = eval(equacao) # A função eval() recebe como entrada uma string, que é uma equação linear. Essa entrada é analisada e avaliada como uma expressão Python pela função eval()\n",
    "    print(f\"\\nResultado da equação para x = {x} é {y}\") # para cada valor de x, a fórmula é executada como uma expressão matemática e retorna um valor diferente"
   ]
  },
  {
   "cell_type": "markdown",
   "metadata": {},
   "source": [
    "### FUNÇÕES"
   ]
  },
  {
   "cell_type": "code",
   "execution_count": 4,
   "metadata": {},
   "outputs": [
    {
     "name": "stdout",
     "output_type": "stream",
     "text": [
      "Primeira função desenvolvida na disciplima Pythom, do curso ADS\n"
     ]
    }
   ],
   "source": [
    "def imprimir_mensagem(disciplina, curso): # Esses parâmetros são variáveis locais, ou seja, são variáveis que existem somente dentro da função\n",
    "    print(f'Primeira função desenvolvida na disciplima {disciplina}, do curso {curso}')\n",
    "\n",
    "imprimir_mensagem(\"Pythom\", \"ADS\") # invocamos a função, passando como parâmetros dois valores do tipo string"
   ]
  },
  {
   "cell_type": "markdown",
   "metadata": {},
   "source": [
    "A instrução \"return\", retorna um valor de uma função"
   ]
  },
  {
   "cell_type": "code",
   "execution_count": 6,
   "metadata": {},
   "outputs": [
    {
     "name": "stdout",
     "output_type": "stream",
     "text": [
      "Primeira função desenvolvida na disciplima python, docurso de ads\n"
     ]
    }
   ],
   "source": [
    "def imprime_msg(disciplina, curso):\n",
    "    return f'Primeira função desenvolvida na disciplima {disciplina}, docurso de {curso}' # a função retorna (return) um valor para quem a invocou\n",
    "\n",
    "mensagem = imprime_msg(\"python\", \"ads\")\n",
    "print(mensagem)"
   ]
  },
  {
   "cell_type": "markdown",
   "metadata": {},
   "source": [
    "Vamos implementar uma função que recebe uma data no formato dd/mm/aaaa e converte o mês para extenso. Então, ao se receber a data 10/05/2020, a função deverá retornar: 10 de maio de 2020"
   ]
  },
  {
   "cell_type": "code",
   "execution_count": 1,
   "metadata": {},
   "outputs": [
    {
     "name": "stdout",
     "output_type": "stream",
     "text": [
      "10 de maio de 2021\n"
     ]
    }
   ],
   "source": [
    "def converter_mes_para_extenso(data):                           # Definimos o nome da função e os parâmetros que ela recebe.\n",
    "    mes = '''janeiro fevereiro março abril maio junho \n",
    "    julho agosto setembro outubro novembro dezembro'''.split()  # a função split() \"quebra\" a string a cada espaço em branco, criando uma lista e elementos\n",
    "    d, m, a = data.split('/')                                   # novamente a função split(), mas agora passando como parâmetro o caractere '/'\n",
    "    mes_extenso = mes[int(m) - 1]                               # O mês 1, estará na posição 0! Diminui 1 para que o número digitado e a posição do mes por extenso sejam os mesmos\n",
    "    return f'{d} de {mes_extenso} de {a}'\n",
    "print(converter_mes_para_extenso('10/05/2021'))                 # Invocamos a função, passando como parâmetro a data a ser convertida"
   ]
  },
  {
   "cell_type": "markdown",
   "metadata": {},
   "source": [
    "### Teste de exercicio - avaliação virtual"
   ]
  },
  {
   "cell_type": "code",
   "execution_count": 9,
   "metadata": {},
   "outputs": [
    {
     "data": {
      "text/plain": [
       "5"
      ]
     },
     "execution_count": 9,
     "metadata": {},
     "output_type": "execute_result"
    }
   ],
   "source": [
    "def calcular(v1, v2=0):\n",
    "    return v1 + v2\n",
    "\n",
    "calcular(5)\n"
   ]
  }
 ],
 "metadata": {
  "kernelspec": {
   "display_name": "Python 3",
   "language": "python",
   "name": "python3"
  },
  "language_info": {
   "codemirror_mode": {
    "name": "ipython",
    "version": 3
   },
   "file_extension": ".py",
   "mimetype": "text/x-python",
   "name": "python",
   "nbconvert_exporter": "python",
   "pygments_lexer": "ipython3",
   "version": "3.11.3"
  },
  "orig_nbformat": 4
 },
 "nbformat": 4,
 "nbformat_minor": 2
}
