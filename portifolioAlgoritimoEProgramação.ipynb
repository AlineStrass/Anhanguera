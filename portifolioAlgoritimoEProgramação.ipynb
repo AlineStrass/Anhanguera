{
 "cells": [
  {
   "cell_type": "markdown",
   "metadata": {},
   "source": [
    "## Algoritmo: Identificando se a pessoa é maior de idade\n",
    "\n",
    "### Disciplina de Algoritmos e Programação Estruturada"
   ]
  },
  {
   "cell_type": "code",
   "execution_count": 8,
   "metadata": {},
   "outputs": [
    {
     "name": "stdout",
     "output_type": "stream",
     "text": [
      "Você digitou o número 25, então você é maior de idade\n"
     ]
    }
   ],
   "source": [
    "# VAR\n",
    "idade = (int(input(\"Qual a sua idade? \")))\n",
    "\n",
    "# Início\n",
    "if idade >= 18:\n",
    "    print(\"Você digitou o número {}, então você é maior de idade\".format(idade))\n",
    "else:\n",
    "    print(\"Você digitou o número {}, então você é menor de idade\".format(idade))"
   ]
  }
 ],
 "metadata": {
  "kernelspec": {
   "display_name": "Python 3",
   "language": "python",
   "name": "python3"
  },
  "language_info": {
   "codemirror_mode": {
    "name": "ipython",
    "version": 3
   },
   "file_extension": ".py",
   "mimetype": "text/x-python",
   "name": "python",
   "nbconvert_exporter": "python",
   "pygments_lexer": "ipython3",
   "version": "3.11.3"
  },
  "orig_nbformat": 4
 },
 "nbformat": 4,
 "nbformat_minor": 2
}
